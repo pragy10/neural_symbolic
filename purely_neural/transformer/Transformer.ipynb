{
  "cells": [
    {
      "cell_type": "markdown",
      "metadata": {
        "id": "view-in-github",
        "colab_type": "text"
      },
      "source": [
        "<a href=\"https://colab.research.google.com/github/pragy10/neural_symbolic/blob/main/Transformer.ipynb\" target=\"_parent\"><img src=\"https://colab.research.google.com/assets/colab-badge.svg\" alt=\"Open In Colab\"/></a>"
      ]
    },
    {
      "cell_type": "markdown",
      "metadata": {
        "id": "jk2vtyhEiGf4"
      },
      "source": [
        "#Purely Neural - TRANSFORMER"
      ]
    },
    {
      "cell_type": "markdown",
      "metadata": {
        "id": "cnPl9TCVkZcQ"
      },
      "source": [
        "##Dataset Preprocessing"
      ]
    },
    {
      "cell_type": "code",
      "execution_count": null,
      "metadata": {
        "id": "vM8aakR8lqSd"
      },
      "outputs": [],
      "source": [
        "import pandas as pd\n",
        "import numpy as np\n",
        "import torch.nn as nn\n",
        "from sklearn.preprocessing import StandardScaler, LabelEncoder\n",
        "from torch.utils.data import Dataset, DataLoader\n",
        "import torch\n",
        "from sklearn.preprocessing import StandardScaler\n",
        "from sklearn.metrics import accuracy_score, precision_score, recall_score, f1_score, roc_auc_score,confusion_matrix, classification_report\n",
        "import pickle"
      ]
    },
    {
      "cell_type": "code",
      "execution_count": null,
      "metadata": {
        "id": "1bjsbmD-lvcZ"
      },
      "outputs": [],
      "source": [
        "# ----------------------\n",
        "# 1. Load & clean\n",
        "# ----------------------\n",
        "df = pd.read_csv(\"train_data.csv\")"
      ]
    },
    {
      "cell_type": "code",
      "execution_count": null,
      "metadata": {
        "id": "6ZCNkvFHly7O"
      },
      "outputs": [],
      "source": [
        "# Sort per student chronologically\n",
        "df = df.sort_values([\"student_id\", \"start_time\"]).reset_index(drop=True)"
      ]
    },
    {
      "cell_type": "code",
      "execution_count": null,
      "metadata": {
        "colab": {
          "base_uri": "https://localhost:8080/"
        },
        "id": "2MSwY6n9xC4D",
        "outputId": "589cf2d4-7639-4df0-c4c4-97b74b7f75f5"
      },
      "outputs": [
        {
          "name": "stderr",
          "output_type": "stream",
          "text": [
            "/tmp/ipython-input-2319459733.py:2: FutureWarning: Downcasting object dtype arrays on .fillna, .ffill, .bfill is deprecated and will change in a future version. Call result.infer_objects(copy=False) instead. To opt-in to the future behavior, set `pd.set_option('future.no_silent_downcasting', True)`\n",
            "  df[\"correct\"] = df[\"correct\"].fillna(False).astype(bool)\n"
          ]
        }
      ],
      "source": [
        "# Convert correct column to boolean (fill NA with False)\n",
        "df[\"correct\"] = df[\"correct\"].fillna(False).astype(bool)"
      ]
    },
    {
      "cell_type": "code",
      "execution_count": null,
      "metadata": {
        "id": "lG-Wvo5J14Dw"
      },
      "outputs": [],
      "source": [
        "# ----------------------\n",
        "# 2. Handle missing values\n",
        "# ----------------------\n",
        "num_cols = df.select_dtypes(include=[\"float64\", \"int64\"]).columns\n",
        "cat_cols = df.select_dtypes(include=[\"object\", \"bool\"]).columns\n",
        "\n",
        "# Fill numeric with median\n",
        "for col in num_cols:\n",
        "    if df[col].isnull().any():\n",
        "        df[col] = df[col].fillna(df[col].median())\n",
        "\n",
        "# Fill categorical with \"unknown\"\n",
        "for col in cat_cols:\n",
        "    if df[col].isnull().any():\n",
        "        df[col] = df[col].fillna(\"unknown\")"
      ]
    },
    {
      "cell_type": "code",
      "execution_count": null,
      "metadata": {
        "id": "RpC7WVX43M0z"
      },
      "outputs": [],
      "source": [
        "# ----------------------\n",
        "# 3. Encode categoricals\n",
        "# ----------------------\n",
        "label_encoders = {}\n",
        "for col in [\"problem_type\", \"content_source\", \"skills\", \"tutoring_types\",\"answer_before_tutoring\",\"account_creation_date\"]:\n",
        "    le = LabelEncoder()\n",
        "    df[col] = le.fit_transform(df[col].astype(str))\n",
        "    label_encoders[col] = le\n",
        "\n",
        "# Save encoders\n",
        "with open(\"label_encoders.pkl\", \"wb\") as f:\n",
        "    pickle.dump(label_encoders, f)\n"
      ]
    },
    {
      "cell_type": "code",
      "execution_count": null,
      "metadata": {
        "id": "nVJ5VSwq4U3q"
      },
      "outputs": [],
      "source": [
        "# ----------------------\n",
        "# 4. Scale numeric features\n",
        "# ----------------------\n",
        "numeric_features = [\n",
        "    \"time_on_task\",\n",
        "    \"fraction_of_hints_used\",\n",
        "    \"attempt_count\",\n",
        "    \"student_answer_count\",\n",
        "    \"mean_correct\",\n",
        "    \"mean_time_on_task\",\n",
        "    \"started_problem_sets_count\",\n",
        "    \"completed_problem_sets_count\",\n",
        "    \"started_skill_builders_count\",\n",
        "    \"mastered_skill_builders_count\",\n",
        "    \"answered_problems_count\",\n",
        "    \"mean_problem_correctness\",\n",
        "    \"mean_problem_time_on_task\",\n",
        "    \"mean_class_score\"\n",
        "]\n",
        "\n",
        "scaler = StandardScaler()\n",
        "df[numeric_features] = scaler.fit_transform(df[numeric_features])\n",
        "# Save the fitted scaler\n",
        "with open(\"scaler.pkl\", \"wb\") as f:\n",
        "    pickle.dump(scaler, f)"
      ]
    },
    {
      "cell_type": "code",
      "execution_count": null,
      "metadata": {
        "colab": {
          "base_uri": "https://localhost:8080/",
          "height": 335
        },
        "id": "GSPztJXW7CAx",
        "outputId": "1e73a801-4ec6-46f9-a108-7033c351eacc"
      },
      "outputs": [
        {
          "data": {
            "text/html": [
              "<div>\n",
              "<style scoped>\n",
              "    .dataframe tbody tr th:only-of-type {\n",
              "        vertical-align: middle;\n",
              "    }\n",
              "\n",
              "    .dataframe tbody tr th {\n",
              "        vertical-align: top;\n",
              "    }\n",
              "\n",
              "    .dataframe thead th {\n",
              "        text-align: right;\n",
              "    }\n",
              "</style>\n",
              "<table border=\"1\" class=\"dataframe\">\n",
              "  <thead>\n",
              "    <tr style=\"text-align: right;\">\n",
              "      <th></th>\n",
              "      <th>0</th>\n",
              "    </tr>\n",
              "  </thead>\n",
              "  <tbody>\n",
              "    <tr>\n",
              "      <th>count</th>\n",
              "      <td>10000.00000</td>\n",
              "    </tr>\n",
              "    <tr>\n",
              "      <th>mean</th>\n",
              "      <td>11.04740</td>\n",
              "    </tr>\n",
              "    <tr>\n",
              "      <th>std</th>\n",
              "      <td>4.59929</td>\n",
              "    </tr>\n",
              "    <tr>\n",
              "      <th>min</th>\n",
              "      <td>5.00000</td>\n",
              "    </tr>\n",
              "    <tr>\n",
              "      <th>25%</th>\n",
              "      <td>7.00000</td>\n",
              "    </tr>\n",
              "    <tr>\n",
              "      <th>50%</th>\n",
              "      <td>10.00000</td>\n",
              "    </tr>\n",
              "    <tr>\n",
              "      <th>75%</th>\n",
              "      <td>15.00000</td>\n",
              "    </tr>\n",
              "    <tr>\n",
              "      <th>max</th>\n",
              "      <td>20.00000</td>\n",
              "    </tr>\n",
              "  </tbody>\n",
              "</table>\n",
              "</div><br><label><b>dtype:</b> float64</label>"
            ],
            "text/plain": [
              "count    10000.00000\n",
              "mean        11.04740\n",
              "std          4.59929\n",
              "min          5.00000\n",
              "25%          7.00000\n",
              "50%         10.00000\n",
              "75%         15.00000\n",
              "max         20.00000\n",
              "dtype: float64"
            ]
          },
          "execution_count": 9,
          "metadata": {},
          "output_type": "execute_result"
        }
      ],
      "source": [
        "df.groupby(\"student_id\").size().describe()\n"
      ]
    },
    {
      "cell_type": "code",
      "execution_count": null,
      "metadata": {
        "colab": {
          "base_uri": "https://localhost:8080/"
        },
        "id": "OUmB2MER74B6",
        "outputId": "ee2aef8f-77bf-4537-8a33-8413ebafb73b"
      },
      "outputs": [
        {
          "name": "stdout",
          "output_type": "stream",
          "text": [
            "log_id                             int64\n",
            "student_id                         int64\n",
            "assignment_id                      int64\n",
            "problem_id                         int64\n",
            "start_time                        object\n",
            "time_on_task                     float64\n",
            "answer_before_tutoring             int64\n",
            "fraction_of_hints_used           float64\n",
            "attempt_count                    float64\n",
            "answer_given                        bool\n",
            "problem_completed                   bool\n",
            "correct                             bool\n",
            "next_correct                        bool\n",
            "content_source                     int64\n",
            "skills                             int64\n",
            "problem_type                       int64\n",
            "tutoring_types                     int64\n",
            "student_answer_count             float64\n",
            "mean_correct                     float64\n",
            "mean_time_on_task                float64\n",
            "class_id                           int64\n",
            "account_creation_date              int64\n",
            "started_problem_sets_count       float64\n",
            "completed_problem_sets_count     float64\n",
            "started_skill_builders_count     float64\n",
            "mastered_skill_builders_count    float64\n",
            "answered_problems_count          float64\n",
            "mean_problem_correctness         float64\n",
            "mean_problem_time_on_task        float64\n",
            "mean_class_score                 float64\n",
            "dtype: object\n"
          ]
        }
      ],
      "source": [
        "print(df.dtypes)\n"
      ]
    },
    {
      "cell_type": "code",
      "execution_count": null,
      "metadata": {
        "id": "cTe79NHm-ji-"
      },
      "outputs": [],
      "source": [
        "for col in df.select_dtypes(include=\"bool\").columns:\n",
        "    df[col] = df[col].astype(int)"
      ]
    },
    {
      "cell_type": "code",
      "execution_count": null,
      "metadata": {
        "id": "Oi3Y0kT2ADim"
      },
      "outputs": [],
      "source": [
        "df.to_csv(\"transformer_train_data.csv\", index=False)\n"
      ]
    },
    {
      "cell_type": "code",
      "execution_count": null,
      "metadata": {
        "colab": {
          "base_uri": "https://localhost:8080/"
        },
        "collapsed": true,
        "id": "hoo5VO7S6MLL",
        "outputId": "066c355f-47e9-4d84-f7f5-785a76d47983"
      },
      "outputs": [
        {
          "name": "stdout",
          "output_type": "stream",
          "text": [
            "Dataset size: 21430\n",
            "One sample X shape: torch.Size([12, 26]) Target: tensor(1.)\n"
          ]
        }
      ],
      "source": [
        "# ----------------------\n",
        "# 5. Sequence dataset for Transformer\n",
        "# ----------------------\n",
        "class StudentSequenceDataset(Dataset):\n",
        "    def __init__(self, df, context=12, target_col=\"next_correct\"):\n",
        "        self.context = context\n",
        "        self.target_col = target_col\n",
        "\n",
        "        # Group per student\n",
        "        self.groups = []\n",
        "        for sid, group in df.groupby(\"student_id\"):\n",
        "            features = group.drop(columns=[\"start_time\",\"log_id\", \"student_id\", \"account_creation_date\"]).values\n",
        "\n",
        "            targets = group[target_col].astype(int).values\n",
        "\n",
        "            if len(group) < context:\n",
        "                # Pad sequences with zeros\n",
        "                pad_len = context - len(group)\n",
        "                padded_x = np.vstack([np.zeros((pad_len, features.shape[1])), features])\n",
        "                padded_y = targets[-1]  # last available target\n",
        "                self.groups.append((padded_x, padded_y))\n",
        "            else:\n",
        "                for i in range(len(group) - context):\n",
        "                    x = features[i:i+context]\n",
        "                    y = targets[i+context]\n",
        "                    self.groups.append((x, y))\n",
        "\n",
        "    def __len__(self):\n",
        "        return len(self.groups)\n",
        "\n",
        "    def __getitem__(self, idx):\n",
        "        x, y = self.groups[idx]\n",
        "        return torch.tensor(x, dtype=torch.float32), torch.tensor(y, dtype=torch.float32)\n",
        "\n",
        "# Example usage\n",
        "dataset = StudentSequenceDataset(df, context=12, target_col=\"next_correct\")\n",
        "print(\"Dataset size:\", len(dataset))\n",
        "print(\"One sample X shape:\", dataset[0][0].shape, \"Target:\", dataset[0][1])"
      ]
    },
    {
      "cell_type": "markdown",
      "metadata": {
        "id": "yiTXS_PBAMI_"
      },
      "source": [
        "## Training transformer\n"
      ]
    },
    {
      "cell_type": "code",
      "execution_count": 49,
      "metadata": {
        "id": "UfYns2oGtZm2"
      },
      "outputs": [],
      "source": [
        "\n",
        "# ----------------------\n",
        "# 1. Dataset\n",
        "# ----------------------\n",
        "class SAKTDatasetAllFeatures(Dataset):\n",
        "    def __init__(self, df, numeric_cols, categorical_cols, context=12, target_col=\"next_correct\"):\n",
        "        self.context = context\n",
        "        self.samples = []\n",
        "        self.numeric_cols = numeric_cols\n",
        "        self.categorical_cols = categorical_cols\n",
        "\n",
        "        # Convert boolean columns to int\n",
        "        for col in df.select_dtypes(include=\"bool\").columns:\n",
        "            df[col] = df[col].astype(int)\n",
        "\n",
        "        # Store categorical mappings (int IDs)\n",
        "        self.cat_maps = {col: sorted(df[col].unique()) for col in categorical_cols}\n",
        "        self.cat_to_idx = {\n",
        "            col: {cat: i for i, cat in enumerate(self.cat_maps[col])} for col in categorical_cols\n",
        "        }\n",
        "\n",
        "        # Group per student\n",
        "        for sid, group in df.groupby(\"student_id\"):\n",
        "            # Convert categorical to IDs\n",
        "            cat_data = []\n",
        "            for col in categorical_cols:\n",
        "                cat_data.append(np.array([self.cat_to_idx[col][v] for v in group[col].values]))\n",
        "            cat_data = np.stack(cat_data, axis=1)  # shape: [seq_len, num_cats]\n",
        "\n",
        "            # Numeric features\n",
        "            num_data = group[numeric_cols].values.astype(np.float32)\n",
        "\n",
        "            # Target\n",
        "            targets = group[target_col].values\n",
        "\n",
        "            # Pad sequences shorter than context\n",
        "            if len(group) < context:\n",
        "                pad_len = context - len(group)\n",
        "                cat_data = np.concatenate([np.zeros((pad_len, len(categorical_cols)), dtype=int), cat_data])\n",
        "                num_data = np.concatenate([np.zeros((pad_len, len(numeric_cols)), dtype=np.float32), num_data])\n",
        "                y = targets[-1]\n",
        "                self.samples.append((num_data, cat_data, y))\n",
        "            else:\n",
        "                for i in range(len(group) - context):\n",
        "                    x_num = num_data[i:i+context]\n",
        "                    x_cat = cat_data[i:i+context]\n",
        "                    y = targets[i+context]\n",
        "                    self.samples.append((x_num, x_cat, y))\n",
        "\n",
        "    def __len__(self):\n",
        "        return len(self.samples)\n",
        "\n",
        "    def __getitem__(self, idx):\n",
        "        num_data, cat_data, y = self.samples[idx]\n",
        "        return (\n",
        "            torch.tensor(num_data, dtype=torch.float32),\n",
        "            torch.tensor(cat_data, dtype=torch.long),\n",
        "            torch.tensor(y, dtype=torch.float32)\n",
        "        )\n",
        "\n",
        "# ----------------------\n",
        "# 2. Transformer model\n",
        "# ----------------------\n",
        "class SAKTAllFeatures(nn.Module):\n",
        "    def __init__(self, numeric_dim, categorical_vocab_sizes, d_model=64, n_heads=4, num_layers=2):\n",
        "        super().__init__()\n",
        "        self.d_model = d_model\n",
        "\n",
        "        # Embeddings for categorical features\n",
        "        self.cat_embeddings = nn.ModuleList([\n",
        "            nn.Embedding(vocab_size, d_model) for vocab_size in categorical_vocab_sizes.values()\n",
        "        ])\n",
        "\n",
        "        # Linear projection for numeric features\n",
        "        self.num_linear = nn.Linear(numeric_dim, d_model)\n",
        "\n",
        "        # Transformer encoder\n",
        "        encoder_layer = nn.TransformerEncoderLayer(\n",
        "            d_model=d_model, nhead=n_heads, batch_first=True\n",
        "        )\n",
        "        self.encoder = nn.TransformerEncoder(encoder_layer, num_layers=num_layers)\n",
        "\n",
        "        # Output layer\n",
        "        self.fc = nn.Linear(d_model, 1)\n",
        "\n",
        "    def forward(self, numeric, categorical):\n",
        "        # Embed categorical features\n",
        "        cat_embeds = []\n",
        "        for i, emb_layer in enumerate(self.cat_embeddings):\n",
        "            cat_embeds.append(emb_layer(categorical[:, :, i]))\n",
        "        cat_embeds = torch.stack(cat_embeds, dim=0).sum(dim=0)  # sum over categories\n",
        "\n",
        "        # Project numeric features\n",
        "        num_proj = self.num_linear(numeric)\n",
        "\n",
        "        # Combine numeric + categorical\n",
        "        x = num_proj + cat_embeds\n",
        "\n",
        "        # Transformer encoder\n",
        "        x = self.encoder(x)\n",
        "        x = x[:, -1, :]  # last time step\n",
        "\n",
        "        # Output\n",
        "        out = torch.sigmoid(self.fc(x))\n",
        "        return out.squeeze(-1)\n",
        "\n",
        "# ----------------------\n",
        "# 3. Training with Validation\n",
        "# ----------------------\n",
        "def train_model_all_features(\n",
        "    df,\n",
        "    numeric_cols,\n",
        "    categorical_cols,\n",
        "    num_epochs=10,\n",
        "    batch_size=32,\n",
        "    lr=1e-3,\n",
        "    context=12,\n",
        "    val_split=0.2\n",
        "):\n",
        "    \"\"\"\n",
        "    Train Transformer model (SAKTAllFeatures) using both numeric and categorical features.\n",
        "    \"\"\"\n",
        "\n",
        "    # ----------------------\n",
        "    # Dataset\n",
        "    # ----------------------\n",
        "    dataset = SAKTDatasetAllFeatures(df, numeric_cols, categorical_cols, context=context, target_col=\"next_correct\")\n",
        "    val_size = int(len(dataset) * val_split)\n",
        "    train_size = len(dataset) - val_size\n",
        "    train_ds, val_ds = random_split(dataset, [train_size, val_size])\n",
        "\n",
        "    train_loader = DataLoader(train_ds, batch_size=batch_size, shuffle=True)\n",
        "    val_loader = DataLoader(val_ds, batch_size=batch_size)\n",
        "\n",
        "    # ----------------------\n",
        "    # Model\n",
        "    # ----------------------\n",
        "    categorical_vocab_sizes = {col: df[col].nunique() for col in categorical_cols}\n",
        "    model = SAKTAllFeatures(\n",
        "        numeric_dim=len(numeric_cols),\n",
        "        categorical_vocab_sizes=categorical_vocab_sizes,\n",
        "        d_model=64,\n",
        "        n_heads=4,\n",
        "        num_layers=2\n",
        "    )\n",
        "\n",
        "    criterion = nn.BCELoss()\n",
        "    optimizer = torch.optim.Adam(model.parameters(), lr=lr)\n",
        "\n",
        "    # ----------------------\n",
        "    # Metric lists\n",
        "    # ----------------------\n",
        "    train_losses, val_losses = [], []\n",
        "    val_accuracies, val_precisions, val_recalls, val_f1s, val_aucs = [], [], [], [], []\n",
        "\n",
        "    # ----------------------\n",
        "    # Training loop\n",
        "    # ----------------------\n",
        "    for epoch in range(num_epochs):\n",
        "        model.train()\n",
        "        total_loss = 0\n",
        "        for num_data, cat_data, y in train_loader:\n",
        "            optimizer.zero_grad()\n",
        "            preds = model(num_data, cat_data)\n",
        "            loss = criterion(preds, y)\n",
        "            loss.backward()\n",
        "            optimizer.step()\n",
        "            total_loss += loss.item() * len(y)\n",
        "\n",
        "        avg_train_loss = total_loss / train_size\n",
        "        train_losses.append(avg_train_loss)\n",
        "\n",
        "        # ----------------------\n",
        "        # Validation\n",
        "        # ----------------------\n",
        "        model.eval()\n",
        "        all_preds, all_targets = [], []\n",
        "        with torch.no_grad():\n",
        "            for num_data, cat_data, y in val_loader:\n",
        "                preds = model(num_data, cat_data)\n",
        "                all_preds.extend(preds.cpu().numpy())\n",
        "                all_targets.extend(y.cpu().numpy())\n",
        "\n",
        "        all_preds = np.array(all_preds)\n",
        "        all_targets = np.array(all_targets)\n",
        "\n",
        "        val_loss = criterion(torch.tensor(all_preds), torch.tensor(all_targets)).item()\n",
        "        val_losses.append(val_loss)\n",
        "\n",
        "        pred_labels = np.round(all_preds)\n",
        "\n",
        "        val_acc = accuracy_score(all_targets, pred_labels)\n",
        "        val_prec = precision_score(all_targets, pred_labels, zero_division=0)\n",
        "        val_rec = recall_score(all_targets, pred_labels, zero_division=0)\n",
        "        val_f1 = f1_score(all_targets, pred_labels, zero_division=0)\n",
        "\n",
        "        try:\n",
        "            val_auc = roc_auc_score(all_targets, all_preds)\n",
        "        except ValueError:\n",
        "            val_auc = float(\"nan\")\n",
        "\n",
        "        # Save metrics\n",
        "        val_accuracies.append(val_acc)\n",
        "        val_precisions.append(val_prec)\n",
        "        val_recalls.append(val_rec)\n",
        "        val_f1s.append(val_f1)\n",
        "        val_aucs.append(val_auc)\n",
        "\n",
        "        print(\n",
        "            f\"Epoch {epoch+1}/{num_epochs} \"\n",
        "            f\"- Train Loss: {avg_train_loss:.4f} \"\n",
        "            f\"- Val Loss: {val_loss:.4f} \"\n",
        "            f\"- Val Acc: {val_acc:.4f} \"\n",
        "            f\"- Val AUC: {val_auc:.4f}\"\n",
        "        )\n",
        "\n",
        "    return model, {\n",
        "        \"train_losses\": train_losses,\n",
        "        \"val_losses\": val_losses,\n",
        "        \"val_accuracies\": val_accuracies,\n",
        "        \"val_precisions\": val_precisions,\n",
        "        \"val_recalls\": val_recalls,\n",
        "        \"val_f1s\": val_f1s,\n",
        "        \"val_aucs\": val_aucs\n",
        "    }\n"
      ]
    },
    {
      "cell_type": "code",
      "execution_count": 50,
      "metadata": {
        "colab": {
          "base_uri": "https://localhost:8080/"
        },
        "id": "fW4cxsOYByhG",
        "outputId": "feb2c603-8a52-42bf-9e4a-31bc7a68837c"
      },
      "outputs": [
        {
          "output_type": "stream",
          "name": "stdout",
          "text": [
            "Epoch 1/10 - Train Loss: 0.5792 - Val Loss: 0.5492 - Val Acc: 0.7242 - Val AUC: 0.7965\n",
            "Epoch 2/10 - Train Loss: 0.5415 - Val Loss: 0.5448 - Val Acc: 0.7275 - Val AUC: 0.8027\n",
            "Epoch 3/10 - Train Loss: 0.5300 - Val Loss: 0.5444 - Val Acc: 0.7319 - Val AUC: 0.8120\n",
            "Epoch 4/10 - Train Loss: 0.5169 - Val Loss: 0.5338 - Val Acc: 0.7364 - Val AUC: 0.8074\n",
            "Epoch 5/10 - Train Loss: 0.5061 - Val Loss: 0.5430 - Val Acc: 0.7282 - Val AUC: 0.8111\n",
            "Epoch 6/10 - Train Loss: 0.4997 - Val Loss: 0.5265 - Val Acc: 0.7399 - Val AUC: 0.8105\n",
            "Epoch 7/10 - Train Loss: 0.4884 - Val Loss: 0.5560 - Val Acc: 0.7333 - Val AUC: 0.8083\n",
            "Epoch 8/10 - Train Loss: 0.4843 - Val Loss: 0.5514 - Val Acc: 0.7301 - Val AUC: 0.8034\n",
            "Epoch 9/10 - Train Loss: 0.4754 - Val Loss: 0.5428 - Val Acc: 0.7345 - Val AUC: 0.8048\n",
            "Epoch 10/10 - Train Loss: 0.4701 - Val Loss: 0.5366 - Val Acc: 0.7305 - Val AUC: 0.8081\n"
          ]
        }
      ],
      "source": [
        "df = pd.read_csv(\"transformer_train_data.csv\")\n",
        "numeric_cols = [\n",
        "    \"time_on_task\", \"fraction_of_hints_used\", \"attempt_count\",\n",
        "    \"student_answer_count\", \"mean_correct\", \"mean_time_on_task\",\n",
        "    \"started_problem_sets_count\", \"completed_problem_sets_count\",\n",
        "    \"started_skill_builders_count\", \"mastered_skill_builders_count\",\n",
        "    \"answered_problems_count\", \"mean_problem_correctness\",\n",
        "    \"mean_problem_time_on_task\", \"mean_class_score\"\n",
        "]\n",
        "\n",
        "categorical_cols = [\"problem_type\", \"content_source\", \"skills\", \"tutoring_types\"]\n",
        "\n",
        "# Train\n",
        "trained_model,history= train_model_all_features(df, numeric_cols, categorical_cols, num_epochs=10, batch_size=32, lr=1e-3, context=12)\n",
        "\n",
        "\n"
      ]
    },
    {
      "cell_type": "code",
      "execution_count": 51,
      "metadata": {
        "id": "NuW1n_3FDVuf"
      },
      "outputs": [],
      "source": [
        "\n",
        "def evaluate_model(model, dataset, batch_size=64):\n",
        "    loader = DataLoader(dataset, batch_size=batch_size)\n",
        "    model.eval()\n",
        "\n",
        "    all_preds, all_targets = [], []\n",
        "    with torch.no_grad():\n",
        "        for skills, correct, y in loader:\n",
        "            preds = model(skills, correct)\n",
        "            all_preds.extend(preds.cpu().numpy())\n",
        "            all_targets.extend(y.cpu().numpy())\n",
        "\n",
        "    # Round predictions for accuracy\n",
        "    acc = accuracy_score(all_targets, np.round(all_preds))\n",
        "\n",
        "    # AUC (may fail if all y are 0 or 1)\n",
        "    try:\n",
        "        auc = roc_auc_score(all_targets, all_preds)\n",
        "    except ValueError:\n",
        "        auc = float(\"nan\")\n",
        "\n",
        "    return acc, auc\n"
      ]
    },
    {
      "cell_type": "code",
      "execution_count": 52,
      "metadata": {
        "colab": {
          "base_uri": "https://localhost:8080/"
        },
        "id": "FQs65jkwDbkz",
        "outputId": "deccb5e9-ac3e-4eff-a299-a57dcb1a15e3"
      },
      "outputs": [
        {
          "output_type": "stream",
          "name": "stdout",
          "text": [
            "Final Accuracy: 0.7810, Final AUC: 0.8636\n"
          ]
        }
      ],
      "source": [
        "# Build dataset again\n",
        "dataset = SAKTDatasetAllFeatures(df, numeric_cols, categorical_cols, context=12, target_col=\"next_correct\")\n",
        "\n",
        "# Evaluate\n",
        "acc, auc = evaluate_model(trained_model, dataset)\n",
        "print(f\"Final Accuracy: {acc:.4f}, Final AUC: {auc:.4f}\")"
      ]
    },
    {
      "cell_type": "markdown",
      "metadata": {
        "id": "NsAIE4ZxpjDN"
      },
      "source": [
        "##Testing the model"
      ]
    },
    {
      "cell_type": "markdown",
      "metadata": {
        "id": "YcRHES1Mpnhw"
      },
      "source": [
        "###Test dataset preprocessing"
      ]
    },
    {
      "cell_type": "code",
      "execution_count": 53,
      "metadata": {
        "colab": {
          "base_uri": "https://localhost:8080/"
        },
        "id": "h6dctmNQplx7",
        "outputId": "78196625-7e3c-45e6-f4da-3dffe80f2b0c"
      },
      "outputs": [
        {
          "output_type": "stream",
          "name": "stderr",
          "text": [
            "/tmp/ipython-input-2856926898.py:3: FutureWarning: Downcasting object dtype arrays on .fillna, .ffill, .bfill is deprecated and will change in a future version. Call result.infer_objects(copy=False) instead. To opt-in to the future behavior, set `pd.set_option('future.no_silent_downcasting', True)`\n",
            "  df1[\"correct\"] = df1[\"correct\"].fillna(False).astype(bool)\n"
          ]
        }
      ],
      "source": [
        "df1 = pd.read_csv(\"test_data.csv\")\n",
        "df1 = df1.sort_values([\"student_id\", \"start_time\"]).reset_index(drop=True)\n",
        "df1[\"correct\"] = df1[\"correct\"].fillna(False).astype(bool)\n",
        "\n",
        "num_cols = df1.select_dtypes(include=[\"float64\", \"int64\"]).columns\n",
        "cat_cols = df1.select_dtypes(include=[\"object\", \"bool\"]).columns\n",
        "\n",
        "for col in num_cols:\n",
        "    if df1[col].isnull().any():\n",
        "        df1[col] = df1[col].fillna(df1[col].median())\n",
        "\n",
        "for col in cat_cols:\n",
        "    if df1[col].isnull().any():\n",
        "        df1[col] = df1[col].fillna(\"unknown\")\n",
        "\n",
        "\n",
        "# Load encoders and scaler\n",
        "with open(\"label_encoders.pkl\", \"rb\") as f:\n",
        "    label_encoders = pickle.load(f)\n",
        "\n",
        "for col in [\"problem_type\", \"content_source\", \"skills\", \"tutoring_types\",\"answer_before_tutoring\",\"account_creation_date\"]:\n",
        "    df1[col] = df1[col].astype(str)\n",
        "\n",
        "    # Replace unseen categories with \"unknown\"\n",
        "    df1[col] = df1[col].apply(lambda x: x if x in label_encoders[col].classes_ else \"unknown\")\n",
        "\n",
        "    # If \"unknown\" not in classes_, add it\n",
        "    if \"unknown\" not in label_encoders[col].classes_:\n",
        "        label_encoders[col].classes_ = np.append(label_encoders[col].classes_, \"unknown\")\n",
        "\n",
        "    # Transform using training encoder\n",
        "    df1[col] = label_encoders[col].transform(df1[col])\n",
        "\n",
        "\n",
        "\n",
        "with open(\"scaler.pkl\", \"rb\") as f:\n",
        "    scaler = pickle.load(f)\n",
        "\n",
        "# Transform test data using **fitted scaler**\n",
        "df1[numeric_features] = scaler.transform(df1[numeric_features])\n",
        "\n",
        "df1 = df1.drop(columns=[\"start_time\"])\n",
        "for col in df1.select_dtypes(include=\"bool\").columns:\n",
        "    df1[col] = df1[col].astype(int)\n",
        "\n",
        "df1.to_csv(\"transformer_test_data.csv\", index=False)\n",
        "\n"
      ]
    },
    {
      "cell_type": "code",
      "execution_count": 54,
      "metadata": {
        "colab": {
          "base_uri": "https://localhost:8080/"
        },
        "id": "n-bGC8yIrXQy",
        "outputId": "f1dd5ae9-dd73-46f7-c15c-b73326fb7c34"
      },
      "outputs": [
        {
          "output_type": "stream",
          "name": "stdout",
          "text": [
            "Test Accuracy: 0.7036\n",
            "Test AUC: 0.7578\n"
          ]
        }
      ],
      "source": [
        "# ----------------------\n",
        "# 1. Prepare Test Dataset\n",
        "# ----------------------\n",
        "test_df = pd.read_csv(\"transformer_test_data.csv\")  # preprocessed already\n",
        "context = 12  # same as training\n",
        "\n",
        "numeric_cols = [\n",
        "    \"time_on_task\", \"fraction_of_hints_used\", \"attempt_count\",\n",
        "    \"student_answer_count\", \"mean_correct\", \"mean_time_on_task\",\n",
        "    \"started_problem_sets_count\", \"completed_problem_sets_count\",\n",
        "    \"started_skill_builders_count\", \"mastered_skill_builders_count\",\n",
        "    \"answered_problems_count\", \"mean_problem_correctness\",\n",
        "    \"mean_problem_time_on_task\", \"mean_class_score\"\n",
        "]\n",
        "\n",
        "categorical_cols = [\"problem_type\", \"content_source\", \"skills\", \"tutoring_types\"]\n",
        "\n",
        "\n",
        "test_dataset = SAKTDatasetAllFeatures(\n",
        "    test_df, numeric_cols=numeric_cols, categorical_cols=categorical_cols,\n",
        "    context=context, target_col='next_correct'\n",
        ")\n",
        "test_loader = DataLoader(test_dataset, batch_size=64, shuffle=False)\n",
        "\n",
        "# ----------------------\n",
        "# 2. Run Predictions\n",
        "# ----------------------\n",
        "model = trained_model\n",
        "model.eval()\n",
        "\n",
        "all_preds, all_targets = [], []\n",
        "\n",
        "with torch.no_grad():\n",
        "    for numeric, categorical, y in test_loader:\n",
        "        preds = model(numeric, categorical)\n",
        "        all_preds.extend(preds.cpu().numpy())\n",
        "        all_targets.extend(y.cpu().numpy())\n",
        "\n",
        "# ----------------------\n",
        "# 3. Convert to 0/1 predictions\n",
        "# ----------------------\n",
        "pred_labels = [1 if p > 0.5 else 0 for p in all_preds]\n",
        "\n",
        "# ----------------------\n",
        "# 4. Evaluate\n",
        "# ----------------------\n",
        "\n",
        "from sklearn.metrics import accuracy_score, roc_auc_score\n",
        "accuracy = accuracy_score(all_targets, pred_labels)\n",
        "auc = roc_auc_score(all_targets, all_preds)\n",
        "print(f\"Test Accuracy: {accuracy:.4f}\")\n",
        "print(f\"Test AUC: {auc:.4f}\")\n",
        "\n"
      ]
    },
    {
      "cell_type": "code",
      "execution_count": 55,
      "metadata": {
        "id": "j-k3seTEEXZp"
      },
      "outputs": [],
      "source": [
        "from sklearn.metrics import accuracy_score, precision_score, recall_score, f1_score, roc_auc_score\n",
        "\n",
        "# ----------------------\n",
        "# 1. Prepare Test Dataset\n",
        "# ----------------------\n",
        "test_df = pd.read_csv(\"transformer_test_data.csv\")  # preprocessed already\n",
        "context = 12  # same as training\n",
        "\n",
        "numeric_cols = [\n",
        "    \"time_on_task\", \"fraction_of_hints_used\", \"attempt_count\",\n",
        "    \"student_answer_count\", \"mean_correct\", \"mean_time_on_task\",\n",
        "    \"started_problem_sets_count\", \"completed_problem_sets_count\",\n",
        "    \"started_skill_builders_count\", \"mastered_skill_builders_count\",\n",
        "    \"answered_problems_count\", \"mean_problem_correctness\",\n",
        "    \"mean_problem_time_on_task\", \"mean_class_score\"\n",
        "]\n",
        "\n",
        "categorical_cols = [\"problem_type\", \"content_source\", \"skills\", \"tutoring_types\"]\n",
        "\n",
        "test_dataset = SAKTDatasetAllFeatures(\n",
        "    test_df, numeric_cols=numeric_cols, categorical_cols=categorical_cols,\n",
        "    context=context, target_col=\"next_correct\"\n",
        ")\n",
        "test_loader = DataLoader(test_dataset, batch_size=64, shuffle=False)"
      ]
    },
    {
      "cell_type": "code",
      "execution_count": 56,
      "metadata": {
        "colab": {
          "base_uri": "https://localhost:8080/"
        },
        "id": "DVGGrnt0Fzvq",
        "outputId": "479c4c58-6b05-4514-fafb-faa95517cb0b"
      },
      "outputs": [
        {
          "output_type": "stream",
          "name": "stdout",
          "text": [
            "============================================================\n",
            "FINAL TRANSFORMER EVALUATION\n",
            "============================================================\n",
            "Test Loss:      0.6124\n",
            "Test Accuracy:  0.7036\n",
            "Test Precision: 0.7152\n",
            "Test Recall:    0.8120\n",
            "Test F1-Score:  0.7606\n",
            "Test AUC-ROC:   0.7578\n"
          ]
        }
      ],
      "source": [
        "\n",
        "# ----------------------\n",
        "# Evaluation Function\n",
        "# ----------------------\n",
        "def evaluate_transformer(model, dataloader, criterion, device=\"cpu\"):\n",
        "    model.eval()\n",
        "    all_preds, all_targets = [], []\n",
        "    total_loss = 0.0\n",
        "\n",
        "    with torch.no_grad():\n",
        "        for numeric, categorical, y in dataloader:\n",
        "            numeric, categorical, y = numeric.to(device), categorical.to(device), y.to(device)\n",
        "\n",
        "            preds = model(numeric, categorical).squeeze()\n",
        "            loss = criterion(preds, y)\n",
        "            total_loss += loss.item() * len(y)\n",
        "\n",
        "            all_preds.extend(preds.cpu().numpy())\n",
        "            all_targets.extend(y.cpu().numpy())\n",
        "\n",
        "    all_preds = np.array(all_preds)\n",
        "    all_targets = np.array(all_targets)\n",
        "    pred_labels = (all_preds > 0.5).astype(int)\n",
        "\n",
        "    avg_loss = total_loss / len(dataloader.dataset)\n",
        "    accuracy = accuracy_score(all_targets, pred_labels)\n",
        "    precision = precision_score(all_targets, pred_labels, zero_division=0)\n",
        "    recall = recall_score(all_targets, pred_labels, zero_division=0)\n",
        "    f1 = f1_score(all_targets, pred_labels, zero_division=0)\n",
        "    auc = roc_auc_score(all_targets, all_preds)\n",
        "\n",
        "    return avg_loss, accuracy, precision, recall, f1, auc, all_preds,all_targets\n",
        "\n",
        "# ----------------------\n",
        "# Final Evaluation\n",
        "# ----------------------\n",
        "criterion = nn.BCELoss()\n",
        "device = torch.device(\"cuda\" if torch.cuda.is_available() else \"cpu\")\n",
        "model.to(device)\n",
        "\n",
        "final_loss, final_acc, final_prec, final_rec, final_f1, final_auc,final_pred,final_target = evaluate_transformer(\n",
        "    model, test_loader, criterion, device\n",
        ")\n",
        "\n",
        "print(\"=\"*60)\n",
        "print(\"FINAL TRANSFORMER EVALUATION\")\n",
        "print(\"=\"*60)\n",
        "print(f\"Test Loss:      {final_loss:.4f}\")\n",
        "print(f\"Test Accuracy:  {final_acc:.4f}\")\n",
        "print(f\"Test Precision: {final_prec:.4f}\")\n",
        "print(f\"Test Recall:    {final_rec:.4f}\")\n",
        "print(f\"Test F1-Score:  {final_f1:.4f}\")\n",
        "print(f\"Test AUC-ROC:   {final_auc:.4f}\")\n"
      ]
    },
    {
      "cell_type": "code",
      "execution_count": 57,
      "metadata": {
        "colab": {
          "base_uri": "https://localhost:8080/"
        },
        "id": "bmUPM7iZGOKS",
        "outputId": "d9761eaa-6689-46c5-9625-3620b51b2cea"
      },
      "outputs": [
        {
          "output_type": "stream",
          "name": "stdout",
          "text": [
            "\n",
            "=== DETAILED CLASSIFICATION REPORT ===\n",
            "              precision    recall  f1-score   support\n",
            "\n",
            "   Incorrect     0.6813    0.5541    0.6112       868\n",
            "     Correct     0.7152    0.8120    0.7606      1197\n",
            "\n",
            "    accuracy                         0.7036      2065\n",
            "   macro avg     0.6983    0.6831    0.6859      2065\n",
            "weighted avg     0.7010    0.7036    0.6978      2065\n",
            "\n"
          ]
        }
      ],
      "source": [
        "final_pred_binary = [1 if p > 0.5 else 0 for p in final_pred]\n",
        "print(f\"\\n=== DETAILED CLASSIFICATION REPORT ===\")\n",
        "print(classification_report(final_target, final_pred_binary, target_names=['Incorrect', 'Correct'], digits=4))"
      ]
    },
    {
      "cell_type": "code",
      "execution_count": 58,
      "metadata": {
        "colab": {
          "base_uri": "https://localhost:8080/"
        },
        "id": "Mr5yZ-VzItQy",
        "outputId": "63e1bb9e-b769-4bd0-bda6-83c9dfea69b1"
      },
      "outputs": [
        {
          "output_type": "stream",
          "name": "stdout",
          "text": [
            "\n",
            "=== CONFUSION MATRIX ===\n",
            "True Negatives (TN):  481\n",
            "False Positives (FP): 387\n",
            "False Negatives (FN): 225\n",
            "True Positives (TP):  972\n",
            "\n",
            "Specificity (True Negative Rate): 0.5541\n",
            "Sensitivity (True Positive Rate): 0.8120\n"
          ]
        }
      ],
      "source": [
        "cm = confusion_matrix(final_target, final_pred_binary)\n",
        "print(f\"\\n=== CONFUSION MATRIX ===\")\n",
        "print(f\"True Negatives (TN):  {cm[0,0]}\")\n",
        "print(f\"False Positives (FP): {cm[0,1]}\")\n",
        "print(f\"False Negatives (FN): {cm[1,0]}\")\n",
        "print(f\"True Positives (TP):  {cm[1,1]}\")\n",
        "tn, fp, fn, tp = cm.ravel()\n",
        "specificity = tn / (tn + fp) if (tn + fp) > 0 else 0\n",
        "sensitivity = tp / (tp + fn) if (tp + fn) > 0 else 0\n",
        "\n",
        "print(f\"\\nSpecificity (True Negative Rate): {specificity:.4f}\")\n",
        "print(f\"Sensitivity (True Positive Rate): {sensitivity:.4f}\")"
      ]
    },
    {
      "cell_type": "code",
      "execution_count": 59,
      "metadata": {
        "colab": {
          "base_uri": "https://localhost:8080/"
        },
        "id": "dcH9TTGKI-MR",
        "outputId": "5438ff74-eb75-4046-f957-1f8a7576a29c"
      },
      "outputs": [
        {
          "output_type": "stream",
          "name": "stdout",
          "text": [
            "\n",
            "=== SAMPLE PREDICTIONS ANALYSIS ===\n",
            "First 20 predictions vs actual:\n",
            "Pred | Actual | Prob\n",
            "--------------------\n",
            "   1 |      0 | 0.817\n",
            "   1 |      1 | 0.861\n",
            "   1 |      1 | 0.832\n",
            "   1 |      1 | 0.893\n",
            "   0 |      1 | 0.493\n",
            "   0 |      0 | 0.186\n",
            "   1 |      1 | 0.955\n",
            "   1 |      1 | 0.820\n",
            "   1 |      1 | 0.736\n",
            "   0 |      1 | 0.145\n",
            "   1 |      1 | 0.892\n",
            "   1 |      1 | 0.628\n",
            "   1 |      0 | 0.559\n",
            "   1 |      1 | 0.713\n",
            "   1 |      0 | 0.550\n",
            "   1 |      1 | 0.966\n",
            "   1 |      1 | 0.529\n",
            "   1 |      1 | 0.668\n",
            "   0 |      1 | 0.497\n",
            "   1 |      0 | 0.546\n"
          ]
        }
      ],
      "source": [
        "print(f\"\\n=== SAMPLE PREDICTIONS ANALYSIS ===\")\n",
        "\n",
        "# Show some example predictions\n",
        "sample_size = 20\n",
        "print(f\"First {sample_size} predictions vs actual:\")\n",
        "print(\"Pred | Actual | Prob\")\n",
        "print(\"-\" * 20)\n",
        "for i in range(min(sample_size, len(final_pred))):\n",
        "    pred_prob = final_pred[i]\n",
        "    pred_class = 1 if pred_prob > 0.5 else 0\n",
        "    actual = int(final_target[i])\n",
        "    print(f\"{pred_class:4d} | {actual:6d} | {pred_prob:.3f}\")"
      ]
    },
    {
      "cell_type": "code",
      "execution_count": 60,
      "metadata": {
        "colab": {
          "base_uri": "https://localhost:8080/"
        },
        "id": "3hwmgBldJeot",
        "outputId": "ba581b97-1d37-4e5c-dd23-32267ba2d919"
      },
      "outputs": [
        {
          "output_type": "stream",
          "name": "stdout",
          "text": [
            "\n",
            "=== PERFORMANCE SUMMARY ===\n",
            "Accuracy    : 0.7036\n",
            "Precision   : 0.7152\n",
            "Recall      : 0.8120\n",
            "F1-Score    : 0.7606\n",
            "AUC-ROC     : 0.7578\n",
            "Specificity : 0.5541\n",
            "Sensitivity : 0.8120\n"
          ]
        }
      ],
      "source": [
        "performance_summary = {\n",
        "    'Metric': ['Accuracy', 'Precision', 'Recall', 'F1-Score', 'AUC-ROC', 'Specificity', 'Sensitivity'],\n",
        "    'Score': [final_acc, final_prec, final_rec, final_f1, final_auc, specificity, sensitivity]\n",
        "}\n",
        "\n",
        "print(f\"\\n=== PERFORMANCE SUMMARY ===\")\n",
        "for metric, score in zip(performance_summary['Metric'], performance_summary['Score']):\n",
        "    print(f\"{metric:12s}: {score:.4f}\")"
      ]
    },
    {
      "cell_type": "code",
      "execution_count": 61,
      "metadata": {
        "id": "nWFIO3hJJodo"
      },
      "outputs": [],
      "source": [
        "def predict_next_correct_transformer(model, new_data, scaler, label_encoders, numeric_cols, categorical_cols, context, device):\n",
        "    \"\"\"\n",
        "    Inference function for Transformer model on new student data.\n",
        "\n",
        "    Args:\n",
        "        model: Trained Transformer model\n",
        "        new_data (pd.DataFrame): New student interaction history\n",
        "        scaler: Fitted scaler for numeric features\n",
        "        label_encoders (dict): Dict of fitted label encoders for categorical features\n",
        "        numeric_cols (list): Numeric feature column names\n",
        "        categorical_cols (list): Categorical feature column names\n",
        "        context (int): Sequence length used during training\n",
        "        device: \"cpu\" or \"cuda\"\n",
        "\n",
        "    Returns:\n",
        "        float: Probability of next response being correct\n",
        "    \"\"\"\n",
        "    model.eval()\n",
        "\n",
        "    with torch.no_grad():\n",
        "        processed_data = new_data.copy()\n",
        "\n",
        "        # --- 1. Scale numeric features ---\n",
        "        if len(numeric_cols) > 0:\n",
        "            processed_data[numeric_cols] = scaler.transform(processed_data[numeric_cols])\n",
        "\n",
        "        # --- 2. Encode categorical features ---\n",
        "        for col in categorical_cols:\n",
        "            if col in processed_data.columns:\n",
        "                le = label_encoders[col]\n",
        "                processed_data[col] = processed_data[col].map(\n",
        "                    lambda x: le.transform([x])[0] if x in le.classes_ else 0\n",
        "                )\n",
        "\n",
        "        # --- 3. Take last `context` steps ---\n",
        "        numeric_vals = processed_data[numeric_cols].values[-context:]\n",
        "        categorical_vals = processed_data[categorical_cols].values[-context:]\n",
        "\n",
        "        # If sequence shorter than context, pad with zeros\n",
        "        if numeric_vals.shape[0] < context:\n",
        "            pad_len = context - numeric_vals.shape[0]\n",
        "            numeric_vals = np.vstack([np.zeros((pad_len, numeric_vals.shape[1])), numeric_vals])\n",
        "            categorical_vals = np.vstack([np.zeros((pad_len, categorical_vals.shape[1])), categorical_vals])\n",
        "\n",
        "        # --- 4. Convert to tensors ---\n",
        "        x_num = torch.tensor(numeric_vals).unsqueeze(0).float().to(device)   # [1, context, num_features]\n",
        "        x_cat = torch.tensor(categorical_vals).unsqueeze(0).long().to(device) # [1, context, cat_features]\n",
        "\n",
        "        # --- 5. Run through model ---\n",
        "        prediction = model(x_num, x_cat)\n",
        "\n",
        "        return prediction.cpu().item()\n"
      ]
    },
    {
      "cell_type": "code",
      "execution_count": 62,
      "metadata": {
        "id": "sakWMSDYMw7K"
      },
      "outputs": [],
      "source": [
        "evaluation_results = {\n",
        "    'final_metrics': {\n",
        "        'accuracy': final_acc,\n",
        "        'precision': final_prec,\n",
        "        'recall': final_rec,\n",
        "        'f1': final_f1,\n",
        "        'auc': final_auc,\n",
        "        'specificity': specificity,\n",
        "        'sensitivity': sensitivity\n",
        "    },\n",
        "    'confusion_matrix': cm.tolist(),\n",
        "\n",
        "}\n",
        "\n",
        "torch.save(evaluation_results, 'transformer_evaluation_results.pth')"
      ]
    },
    {
      "cell_type": "code",
      "execution_count": 72,
      "metadata": {
        "id": "bvUfWeGONX5t",
        "colab": {
          "base_uri": "https://localhost:8080/"
        },
        "outputId": "b628c1e4-42d0-474b-e3bb-c3c3577e87fd"
      },
      "outputs": [
        {
          "output_type": "stream",
          "name": "stdout",
          "text": [
            "\n",
            "=== DATA PREPARED FOR TRANSFORMER VISUALIZATION ===\n",
            "Training epochs: 10\n",
            "Training curves data points: 20\n",
            "Metrics data points: 10\n"
          ]
        }
      ],
      "source": [
        "# Assume these lists were collected during training\n",
        "# train_losses, val_losses, val_accuracies, val_precisions, val_recalls, val_f1s, val_aucs\n",
        "# And `cm` is confusion matrix from test evaluation\n",
        "train_losses = history[\"train_losses\"]\n",
        "val_losses = history[\"val_losses\"]\n",
        "val_accuracies = history[\"val_accuracies\"]\n",
        "val_recalls = history[\"val_recalls\"]\n",
        "val_f1s = history[\"val_f1s\"]\n",
        "val_precisions = history[\"val_precisions\"]\n",
        "val_aucs = history[\"val_aucs\"]\n",
        "epochs_range = list(range(1, len(train_losses) + 1))\n",
        "\n",
        "# -----------------------------\n",
        "# 1. Training curves (loss)\n",
        "# -----------------------------\n",
        "training_curves_data = {\n",
        "    'epoch': epochs_range + epochs_range,  # Duplicate for train + validation\n",
        "    'loss': train_losses + val_losses,\n",
        "    'type': ['Train'] * len(train_losses) + ['Validation'] * len(val_losses)\n",
        "}\n",
        "\n",
        "# -----------------------------\n",
        "# 2. Validation metrics over epochs\n",
        "# -----------------------------\n",
        "metrics_data = {\n",
        "    'epoch': epochs_range,\n",
        "    'accuracy': val_accuracies,\n",
        "    'auc': val_aucs,\n",
        "    'precision': val_precisions,\n",
        "    'recall': val_recalls,\n",
        "    'f1': val_f1s\n",
        "}\n",
        "\n",
        "# -----------------------------\n",
        "# 3. Confusion matrix (test set)\n",
        "# -----------------------------\n",
        "cm_data = {\n",
        "    'Predicted_Incorrect': [cm[0, 0], cm[1, 0]],\n",
        "    'Predicted_Correct': [cm[0, 1], cm[1, 1]],\n",
        "    'Actual': ['Actual_Incorrect', 'Actual_Correct']\n",
        "}\n",
        "\n",
        "# -----------------------------\n",
        "# 4. Sanity check\n",
        "# -----------------------------\n",
        "print(f\"\\n=== DATA PREPARED FOR TRANSFORMER VISUALIZATION ===\")\n",
        "print(f\"Training epochs: {len(epochs_range)}\")\n",
        "print(f\"Training curves data points: {len(training_curves_data['epoch'])}\")\n",
        "print(f\"Metrics data points: {len(metrics_data['epoch'])}\")\n"
      ]
    },
    {
      "cell_type": "code",
      "source": [
        "\n",
        "import matplotlib.pyplot as plt\n",
        "\n",
        "plt.figure(figsize=(8, 5))\n",
        "plt.plot(training_curves_data['epoch'][:len(train_losses)], training_curves_data['loss'][:len(train_losses)], label='Train Loss', marker='o')\n",
        "plt.plot(training_curves_data['epoch'][len(train_losses):], training_curves_data['loss'][len(train_losses):], label='Validation Loss', marker='o')\n",
        "plt.xlabel('Epoch')\n",
        "plt.ylabel('Loss')\n",
        "plt.title('Training and Validation Loss Curves')\n",
        "plt.legend()\n",
        "plt.grid(alpha=0.3)\n",
        "plt.tight_layout()\n",
        "plt.show"
      ],
      "metadata": {
        "colab": {
          "base_uri": "https://localhost:8080/",
          "height": 586
        },
        "id": "o96WiQplWCjq",
        "outputId": "36d3264f-b812-4376-ff53-eb4f574ea261"
      },
      "execution_count": 73,
      "outputs": [
        {
          "output_type": "execute_result",
          "data": {
            "text/plain": [
              "<function matplotlib.pyplot.show(close=None, block=None)>"
            ],
            "text/html": [
              "<div style=\"max-width:800px; border: 1px solid var(--colab-border-color);\"><style>\n",
              "      pre.function-repr-contents {\n",
              "        overflow-x: auto;\n",
              "        padding: 8px 12px;\n",
              "        max-height: 500px;\n",
              "      }\n",
              "\n",
              "      pre.function-repr-contents.function-repr-contents-collapsed {\n",
              "        cursor: pointer;\n",
              "        max-height: 100px;\n",
              "      }\n",
              "    </style>\n",
              "    <pre style=\"white-space: initial; background:\n",
              "         var(--colab-secondary-surface-color); padding: 8px 12px;\n",
              "         border-bottom: 1px solid var(--colab-border-color);\"><b>matplotlib.pyplot.show</b><br/>def show(*args, **kwargs) -&gt; None</pre><pre class=\"function-repr-contents function-repr-contents-collapsed\" style=\"\"><a class=\"filepath\" style=\"display:none\" href=\"#\">/usr/local/lib/python3.12/dist-packages/matplotlib/pyplot.py</a>Display all open figures.\n",
              "\n",
              "Parameters\n",
              "----------\n",
              "block : bool, optional\n",
              "    Whether to wait for all figures to be closed before returning.\n",
              "\n",
              "    If `True` block and run the GUI main loop until all figure windows\n",
              "    are closed.\n",
              "\n",
              "    If `False` ensure that all figure windows are displayed and return\n",
              "    immediately.  In this case, you are responsible for ensuring\n",
              "    that the event loop is running to have responsive figures.\n",
              "\n",
              "    Defaults to True in non-interactive mode and to False in interactive\n",
              "    mode (see `.pyplot.isinteractive`).\n",
              "\n",
              "See Also\n",
              "--------\n",
              "ion : Enable interactive mode, which shows / updates the figure after\n",
              "      every plotting command, so that calling ``show()`` is not necessary.\n",
              "ioff : Disable interactive mode.\n",
              "savefig : Save the figure to an image file instead of showing it on screen.\n",
              "\n",
              "Notes\n",
              "-----\n",
              "**Saving figures to file and showing a window at the same time**\n",
              "\n",
              "If you want an image file as well as a user interface window, use\n",
              "`.pyplot.savefig` before `.pyplot.show`. At the end of (a blocking)\n",
              "``show()`` the figure is closed and thus unregistered from pyplot. Calling\n",
              "`.pyplot.savefig` afterwards would save a new and thus empty figure. This\n",
              "limitation of command order does not apply if the show is non-blocking or\n",
              "if you keep a reference to the figure and use `.Figure.savefig`.\n",
              "\n",
              "**Auto-show in jupyter notebooks**\n",
              "\n",
              "The jupyter backends (activated via ``%matplotlib inline``,\n",
              "``%matplotlib notebook``, or ``%matplotlib widget``), call ``show()`` at\n",
              "the end of every cell by default. Thus, you usually don&#x27;t have to call it\n",
              "explicitly there.</pre>\n",
              "      <script>\n",
              "      if (google.colab.kernel.accessAllowed && google.colab.files && google.colab.files.view) {\n",
              "        for (const element of document.querySelectorAll('.filepath')) {\n",
              "          element.style.display = 'block'\n",
              "          element.onclick = (event) => {\n",
              "            event.preventDefault();\n",
              "            event.stopPropagation();\n",
              "            google.colab.files.view(element.textContent, 569);\n",
              "          };\n",
              "        }\n",
              "      }\n",
              "      for (const element of document.querySelectorAll('.function-repr-contents')) {\n",
              "        element.onclick = (event) => {\n",
              "          event.preventDefault();\n",
              "          event.stopPropagation();\n",
              "          element.classList.toggle('function-repr-contents-collapsed');\n",
              "        };\n",
              "      }\n",
              "      </script>\n",
              "      </div>"
            ]
          },
          "metadata": {},
          "execution_count": 73
        },
        {
          "output_type": "display_data",
          "data": {
            "text/plain": [
              "<Figure size 800x500 with 1 Axes>"
            ],
            "image/png": "[encoded data removed]"
          },
          "metadata": {}
        }
      ]
    },
    {
      "cell_type": "code",
      "source": [
        "\n",
        "plt.figure(figsize=(12, 7))\n",
        "plt.plot(metrics_data['epoch'], metrics_data['accuracy'], label='Accuracy', marker='o')\n",
        "plt.plot(metrics_data['epoch'], metrics_data['precision'], label='Precision', marker='o')\n",
        "plt.plot(metrics_data['epoch'], metrics_data['recall'], label='Recall', marker='o')\n",
        "plt.plot(metrics_data['epoch'], metrics_data['f1'], label='F1-Score', marker='o')\n",
        "plt.plot(metrics_data['epoch'], metrics_data['auc'], label='AUC-ROC', marker='o')\n",
        "plt.xlabel('Epoch')\n",
        "plt.ylabel('Metric')\n",
        "plt.title('Validation Metrics Over Epochs')\n",
        "plt.legend()\n",
        "plt.grid(alpha=0.3)\n",
        "plt.tight_layout()\n",
        "plt.show()"
      ],
      "metadata": {
        "colab": {
          "base_uri": "https://localhost:8080/",
          "height": 391
        },
        "id": "4O0EhuoJWcp_",
        "outputId": "19c681f5-db56-401a-a1df-dd62341ae657"
      },
      "execution_count": 74,
      "outputs": [
        {
          "output_type": "display_data",
          "data": {
            "text/plain": [
              "<Figure size 1200x700 with 1 Axes>"
            ],
            "image/png": "[encoded data removed]"
          },
          "metadata": {}
        }
      ]
    },
    {
      "cell_type": "code",
      "source": [
        "\n",
        "import seaborn as sns\n",
        "import numpy as np\n",
        "from sklearn.metrics import ConfusionMatrixDisplay\n",
        "\n",
        "cm = np.array(evaluation_results['confusion_matrix'])\n",
        "disp = ConfusionMatrixDisplay(confusion_matrix=cm, display_labels=[\"Incorrect\", \"Correct\"])\n",
        "fig, ax = plt.subplots(figsize=(5,5))\n",
        "disp.plot(ax=ax, cmap='Blues', values_format='d')\n",
        "plt.title('Confusion Matrix')\n",
        "plt.show()"
      ],
      "metadata": {
        "colab": {
          "base_uri": "https://localhost:8080/",
          "height": 427
        },
        "id": "JTKs5bl2Wy17",
        "outputId": "bb49217a-0f61-44fb-b467-2ff025c71116"
      },
      "execution_count": 75,
      "outputs": [
        {
          "output_type": "display_data",
          "data": {
            "text/plain": [
              "<Figure size 500x500 with 2 Axes>"
            ],
            "image/png": "[encoded data removed]"
          },
          "metadata": {}
        }
      ]
    }
  ],
  "metadata": {
    "colab": {
      "provenance": [],
      "authorship_tag": "ABX9TyNJPI/F+0+dMLm72iYLZZjb",
      "include_colab_link": true
    },
    "kernelspec": {
      "display_name": "Python 3",
      "name": "python3"
    },
    "language_info": {
      "name": "python"
    }
  },
  "nbformat": 4,
  "nbformat_minor": 0
}